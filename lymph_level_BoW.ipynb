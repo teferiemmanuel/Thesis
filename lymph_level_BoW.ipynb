{
 "cells": [
  {
   "cell_type": "code",
   "execution_count": 1,
   "metadata": {},
   "outputs": [],
   "source": [
    "from PIL import Image\n",
    "import openslide\n",
    "import glob\n",
    "import cv2 as cv\n",
    "import csv\n",
    "import numpy as np\n",
    "from stopwatch import Stopwatch\n",
    "from sklearn.svm import SVC\n",
    "import lymph_BoG as bow\n",
    "import imp\n",
    "from matplotlib import pyplot as plt\n",
    "import numpy as np"
   ]
  },
  {
   "cell_type": "code",
   "execution_count": 2,
   "metadata": {},
   "outputs": [],
   "source": [
    "'''\n",
    "Test the functionality for bounding code. Bounding box does little to help.\n",
    "'''\n",
    "im = openslide.OpenSlide(\"/Volumes/Datasets/validation/HobI18-618697230393.svs\")\n",
    "dims = im.level_dimensions\n",
    "RESOLUTION = 2\n",
    "width = dims[RESOLUTION][0]\n",
    "height = dims[RESOLUTION][1]\n",
    "\n",
    "img = im.read_region((0, 0), RESOLUTION, (width, height))\n",
    "img.show()"
   ]
  },
  {
   "cell_type": "code",
   "execution_count": 3,
   "metadata": {},
   "outputs": [],
   "source": [
    "type(np.asarray(img))\n",
    "imgA = np.asarray(img)\n",
    "sift = cv.xfeatures2d.SIFT_create()\n",
    "gray = cv.cvtColor(imgA, cv.COLOR_BGR2GRAY)\n",
    "kp, des = sift.detectAndCompute(gray,None)\n"
   ]
  },
  {
   "cell_type": "code",
   "execution_count": 4,
   "metadata": {},
   "outputs": [
    {
     "name": "stdout",
     "output_type": "stream",
     "text": [
      "6722\n",
      "2273\n"
     ]
    }
   ],
   "source": [
    "print(width)\n",
    "print(height)"
   ]
  },
  {
   "cell_type": "code",
   "execution_count": 14,
   "metadata": {},
   "outputs": [
    {
     "data": {
      "text/plain": [
       "array([ 21,  77, 354, 119,  64,   0,   7,   9,   0,   1,  95, 266, 368,\n",
       "       359, 400, 458, 421, 491, 388, 646, 405, 209,   0,   0,   2,   0,\n",
       "         0,   0, 102, 242, 362, 440, 432, 607, 711, 507, 262, 285, 698,\n",
       "       196,   0,   0,   0,   0,   0,   0,   0,   0,   0,   0,   0,   0,\n",
       "         0,   0,   0,   0,   0,   0,   0,   0,   0,   0,   0,   0,   0,\n",
       "         0,   0,   0])"
      ]
     },
     "execution_count": 14,
     "metadata": {},
     "output_type": "execute_result"
    }
   ],
   "source": [
    "'''\n",
    "Bin the keypoints into a histogram \n",
    "'''\n",
    "len(kp)\n",
    "#\n",
    "x_counter = 0\n",
    "i = 0\n",
    "sift_hist = np.zeros(width//100 + 1, dtype=int)\n",
    "\n",
    "# bin the following:\n",
    "for k in range(len(kp)):\n",
    "    x_bin = int(kp[k].pt[0] // 100)\n",
    "    sift_hist[x_bin] += 1\n",
    "    \n",
    "sift_hist"
   ]
  },
  {
   "cell_type": "code",
   "execution_count": null,
   "metadata": {},
   "outputs": [],
   "source": []
  },
  {
   "cell_type": "code",
   "execution_count": null,
   "metadata": {},
   "outputs": [],
   "source": []
  },
  {
   "cell_type": "code",
   "execution_count": null,
   "metadata": {},
   "outputs": [],
   "source": [
    "\n"
   ]
  },
  {
   "cell_type": "code",
   "execution_count": null,
   "metadata": {},
   "outputs": [],
   "source": []
  },
  {
   "cell_type": "code",
   "execution_count": null,
   "metadata": {},
   "outputs": [],
   "source": [
    "\n",
    "\n",
    "# Diagnosis-name pairings\n",
    "label_reader = csv.DictReader(open(\"target.csv\"))\n",
    "labels = {}\n",
    "for row in label_reader:\n",
    "    labels[row['slide']] = row['target']\n",
    "\n",
    "# Form bounding tuples\n",
    "label_reader = csv.DictReader(open(\"Lymph_Partitions.csv\"))\n",
    "lymph = {}\n",
    "for row in label_reader:\n",
    "    name = row['Slide_name'] + \".svs\"\n",
    "    diagnosis = labels[name]\n",
    "    lymph[name] = (diagnosis, row['L1'], row['L2'], row['L3'], row['L4'])\n",
    "\n",
    "'''Test manually done bounding boxes.\n",
    "lymph_bound => ((534, 483), 218, 192)\n",
    "lymph['HobI18-618697230393.svs'] => ('0', '((199, 397), 217, 215)', '((534, 483), 218, 192)', '((1031, 525), 207, 180)', '')\n",
    "'''\n",
    "im = openslide.OpenSlide(\"/Volumes/Datasets/validation/HobI18-618697230393.svs\")\n",
    "RESOLUTION = 3\n",
    "dims = im.level_dimensions\n",
    "slide_width = dims[RESOLUTION][0]\n",
    "slide_height = dims[RESOLUTION][1]\n",
    "\n",
    "# print(slide_height)\n",
    "# print(slide_width)\n",
    "\n",
    "lymph_bound = eval(lymph['HobI18-618697230393.svs'][2])\n",
    "print(lymph['HobI18-618697230393.svs']) \n",
    "\n",
    "lymph_point = (int(lymph_bound[0][0] / 1280 * slide_width), int(lymph_bound[0][1] / 723 * slide_height))\n",
    "width = int((lymph_bound[1] / 1280) * slide_width * 4)\n",
    "height = int((lymph_bound[2] / 723) * slide_height * 4) \n",
    "\n",
    "\n",
    "# print(lymph_point)\n",
    "# print(height)\n",
    "# print(width)\n",
    "\n",
    "img = im.read_region(lymph_point, RESOLUTION, (width, height))\n",
    "img.show()\n",
    "\n",
    "'''\n",
    "test the slide_width//lymph_count approach\n",
    "getcolors() => seems to indicate that partition is happening despite show() only showing grey.\n",
    "'''\n",
    "im = openslide.OpenSlide(\"/Volumes/Datasets/validation/HobI18-618697230393.svs\")\n",
    "RESOLUTION = 2\n",
    "dims = im.level_dimensions\n",
    "slide_width = dims[RESOLUTION][0]\n",
    "slide_height = dims[RESOLUTION][1]\n",
    "print(slide_width//3)\n",
    "img = im.read_region((0, 0), RESOLUTION, (slide_width//3, slide_height))\n",
    "bbox = img.getbbox()\n",
    "img2 = img.crop(box=bbox)\n",
    "\n",
    "print(img2.size)\n",
    "print(img.size)\n",
    "img.show()\n",
    "# img2.show()\n",
    "cols = img.getcolors(img.size[0]*img.size[1])\n",
    "print(len(cols))\n",
    "# print(cols)\n",
    "# print(img.getpalette())\n",
    "#img.show()\n",
    "'''\n",
    "Try using sliding window approach, where if the sliding rectangular bar from the left and right sides of the \n",
    "parsed lymph contains x amount of sift features, stop, that is your left and right bound. \n",
    "\n",
    "The higher x is, the tighter the bound\n",
    "'''\n",
    "type(img)\n",
    "ar = np.asarray(img)\n",
    "gray= cv.cvtColor(ar,cv.COLOR_BGR2GRAY)\n",
    "sift = cv.xfeatures2d.SIFT_create()\n",
    "kp = sift.detect(gray,None)\n",
    "img_a=cv.drawKeypoints(gray,kp,np.asarray(img))\n",
    "cv.imwrite('sift_kp.jpg',img_a)\n",
    "\n",
    "img_a.show()"
   ]
  }
 ],
 "metadata": {
  "kernelspec": {
   "display_name": "Python 3",
   "language": "python",
   "name": "python3"
  },
  "language_info": {
   "codemirror_mode": {
    "name": "ipython",
    "version": 3
   },
   "file_extension": ".py",
   "mimetype": "text/x-python",
   "name": "python",
   "nbconvert_exporter": "python",
   "pygments_lexer": "ipython3",
   "version": "3.7.6"
  }
 },
 "nbformat": 4,
 "nbformat_minor": 2
}
